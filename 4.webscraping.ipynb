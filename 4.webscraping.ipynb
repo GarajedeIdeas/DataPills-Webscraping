{
 "cells": [
  {
   "cell_type": "markdown",
   "id": "295226f6-7eec-43b9-ab52-bdcc0494cc2f",
   "metadata": {},
   "source": [
    "# Webscraping \n",
    "\n",
    "En este tutorial vamos a analizar el webscraping, una técnica muy utilizada en ciencia de datos para recolectar datos de páginas webs.\n"
   ]
  },
  {
   "cell_type": "markdown",
   "id": "03de9269-1ca5-476d-80e0-366a7741f195",
   "metadata": {
    "tags": []
   },
   "source": [
    "## ¿Qué es el Webscraping?\n",
    "\n",
    "[Webscraping](https://es.wikipedia.org/wiki/Web_scraping) consiste en utilizar una herramienta informática (como puede ser un lenguaje de programación) para extraer datos de una página web de forma automática. Básicamente utiliza peticiones HTTP para \"pedir\" una página web de forma similar a como haríamos con un navegador web (como Firefox, Chrome o Internet Explorer). Una vez hecha dicha petición, extrae la información que nos interesa y la guarda (en un archivo o en una base de datos).\n"
   ]
  },
  {
   "cell_type": "markdown",
   "id": "e9ed8985-b956-4861-9d66-cffba24542ca",
   "metadata": {},
   "source": [
    "<center><img src='https://qph.cf2.quoracdn.net/main-qimg-819ffb7ec3f7f53563f97d057b32a391-pjlq' width=\"400\"></center>"
   ]
  },
  {
   "cell_type": "markdown",
   "id": "d79a7551-b38d-4622-8da0-9bf4c607647f",
   "metadata": {},
   "source": [
    "## Scrapeando datos de Google Play\n",
    "\n",
    "<center><img src='https://i.blogs.es/3bce76/valoracion/450_1000.jpg' width=\"400\"></center>\n"
   ]
  },
  {
   "cell_type": "markdown",
   "id": "b9b5f80b-ea47-4167-8fb7-ce13796039b7",
   "metadata": {},
   "source": [
    "Para entender cómo hacer webscraping, vamos a desarrollar un código en Python para extraer información sobre apps disponibles en **Google Play**, la plataforma de distribución digital de aplicaciones móviles para los dispositivos con sistema operativo Android. Esta plataforma permite a los usuarios navegar y descargar aplicaciones, juegos, música, libros, revistas y películas.\n",
    "\n",
    "En particular, vamos a tratar obtener información de la app de Yuka. https://play.google.com/store/apps/details?id=io.yuka.android\n",
    "\n"
   ]
  },
  {
   "cell_type": "markdown",
   "id": "3a6895a9-246b-4b2f-89ef-6c8045df303b",
   "metadata": {},
   "source": [
    "<center><img src='https://play-lh.googleusercontent.com/fmGc9NGmf0ZTV2PQIhZ7lprvqNaUOaZEFXZg6MIG5fDaUiTua4Y2D7IxA3jaHDj2xQ=w240-h480-rw' width=\"200\"></center>\n"
   ]
  },
  {
   "cell_type": "markdown",
   "id": "f3647c80-0dc7-40b7-ae9a-aadc813aa29f",
   "metadata": {},
   "source": [
    "## Acceder a una web con `Requests`"
   ]
  },
  {
   "cell_type": "markdown",
   "id": "1b909688-d9bc-4da1-ae5a-eb5a841285ef",
   "metadata": {},
   "source": [
    "Lo primero que necesitamos es una biblioteca capaz de hacer estas peticiones HTTP (Hypertext Transfer Protocol), es decir, que se conecte a la página web que queremos, y nos \"traiga\" a Python el contenido de dicha web."
   ]
  },
  {
   "cell_type": "markdown",
   "id": "511387d4-f6da-4512-a377-5bd96585e590",
   "metadata": {},
   "source": [
    "Para esta operación, vamos a utilizar una biblioteca muy sencilla y potente: [`Requests`](http://docs.python-requests.org/en/master/). \n"
   ]
  },
  {
   "cell_type": "code",
   "execution_count": 26,
   "id": "270306ff-9e86-4f26-8036-1333f59b53db",
   "metadata": {
    "tags": []
   },
   "outputs": [],
   "source": [
    "# !pip install requests\n",
    "\n",
    "import requests"
   ]
  },
  {
   "cell_type": "markdown",
   "id": "11d38574-fb6c-4364-b937-045b49b2df17",
   "metadata": {},
   "source": [
    "Para pedir una web, solo tenemos que decirle a `Requests` que haga lo que se llama una petición **HTTP GET**. \n"
   ]
  },
  {
   "cell_type": "code",
   "execution_count": 27,
   "id": "c9daeac3-7a24-4efe-9289-f46c766fc874",
   "metadata": {
    "tags": []
   },
   "outputs": [],
   "source": [
    "url = 'https://play.google.com/store/apps/details?id=io.yuka.android'\n",
    "response = requests.get(url)"
   ]
  },
  {
   "cell_type": "code",
   "execution_count": 28,
   "id": "94c087d1-fc4f-4383-a70d-030ea6925f17",
   "metadata": {
    "tags": []
   },
   "outputs": [
    {
     "data": {
      "text/plain": [
       "<Response [200]>"
      ]
     },
     "execution_count": 28,
     "metadata": {},
     "output_type": "execute_result"
    }
   ],
   "source": [
    "response"
   ]
  },
  {
   "cell_type": "markdown",
   "id": "01ddb16c-3a28-4b9c-8913-7abd36f2b8bd",
   "metadata": {},
   "source": [
    "Vamos a ver el tipo de nuestra variable `google_play`:"
   ]
  },
  {
   "cell_type": "code",
   "execution_count": 29,
   "id": "bc7c88db-b11b-444e-9b47-7e7494a40c8f",
   "metadata": {},
   "outputs": [
    {
     "data": {
      "text/plain": [
       "requests.models.Response"
      ]
     },
     "execution_count": 29,
     "metadata": {},
     "output_type": "execute_result"
    }
   ],
   "source": [
    "type(response)"
   ]
  },
  {
   "cell_type": "code",
   "execution_count": 30,
   "id": "ced3a521-476b-4b38-8454-1c889c0158d9",
   "metadata": {
    "tags": []
   },
   "outputs": [
    {
     "data": {
      "text/plain": [
       "200"
      ]
     },
     "execution_count": 30,
     "metadata": {},
     "output_type": "execute_result"
    }
   ],
   "source": [
    "# Muestra el código HTTP respuesta o Status de google_play:\n",
    "\n",
    "response.status_code"
   ]
  },
  {
   "cell_type": "markdown",
   "id": "45f4038e-255e-4258-8214-92b5c25713e6",
   "metadata": {},
   "source": [
    "El método nos devuelve el número 200, lo que significa que la petición es correcta. En caso de introducir una URL que no existe, obtendríamos un código 404. Existen otros códigos de respuesta, que puedes encontrar [aquí](https://es.wikipedia.org/wiki/Anexo:C%C3%B3digos_de_estado_HTTP).\n"
   ]
  },
  {
   "cell_type": "markdown",
   "id": "b5d9c27c-6309-4039-a430-02d40905628a",
   "metadata": {},
   "source": [
    "## Contenido de una respuesta HTTP"
   ]
  },
  {
   "cell_type": "markdown",
   "id": "69d88e15-6e9f-45ed-a770-d6145ab701d0",
   "metadata": {},
   "source": [
    "Una página web no deja de ser código. A pesar de que nosotros vemos la web de forma bonita y llena de imágenes y texto legible, las páginas están escritas en principalmente tres lenguajes de programación: [HTML](https://es.wikipedia.org/wiki/HTML), [CSS](https://es.wikipedia.org/wiki/Hoja_de_estilos_en_cascada) y [Javascript](https://es.wikipedia.org/wiki/JavaScript).\n",
    "\n",
    "Cuando pedimos una página web con nuestro navegador, éste recibe el código de la página. Una vez recibido, el navegador \"dibuja\" o *renderiza* ese código para mostrarnos las páginas web bonitas.\n",
    "\n",
    "`Requests` no hace este útlimo paso: únicamente recibe el código de la página (llamado *código fuente*), con el que vamos a interactuar para hacer nuestro scraping.\n",
    "\n",
    "Como prueba, vamos a hacer una cosa: vamos a abrir con nuestro navegador web favorito la [página](https://play.google.com/store/apps/details?id=com.spotify.music) de la app de Spotify y vamos a hacer click derecho, por ejemplo, en el nombre de la app y hacemos click en *Inspeccionar elemento*. Debería desplegarse una ventanita donde aparece el código fuente (en HTML principalmente) de esa parte de la página web."
   ]
  },
  {
   "cell_type": "markdown",
   "id": "040ede1d-3fcb-41a6-83c7-994cefff22ff",
   "metadata": {},
   "source": [
    "`Requests` recibe el código fuente en lo que se llama *el contenido de la respuesta* tras la petición HTTP GET. Para mostrar este contenido, utlizamos el método `.text.`Nos va a mostrar un código larguísimo y nada apetecible..."
   ]
  },
  {
   "cell_type": "code",
   "execution_count": null,
   "id": "3605a8a3-1545-4128-97fc-7a660ed68199",
   "metadata": {
    "tags": []
   },
   "outputs": [],
   "source": [
    "response.text"
   ]
  },
  {
   "cell_type": "markdown",
   "id": "d475bb41-3b40-4317-a085-346cf7be5835",
   "metadata": {},
   "source": [
    "Ahí está todo: todo el texto, todas las imágenes... Nuestra tarea es seleccionar de todo ese código las partes que nos interesan para nuestro proyecto"
   ]
  },
  {
   "cell_type": "markdown",
   "id": "d13cec1a-85a9-48a6-9559-41cc214cd207",
   "metadata": {},
   "source": [
    "## Analizar código HTML con `BeautifulSoup`\n",
    "`BeautifulSoup` es una biblioteca muy famosa para hacer web scraping. Nos permite analizar código HTML y extraer datos de ellos de forma sencilla."
   ]
  },
  {
   "cell_type": "code",
   "execution_count": null,
   "id": "739c5e4d-a42b-4c29-aeeb-0294d0cac103",
   "metadata": {
    "tags": []
   },
   "outputs": [],
   "source": [
    "from bs4 import BeautifulSoup "
   ]
  },
  {
   "cell_type": "markdown",
   "id": "9c478a8a-dd96-491d-aef3-98f5f51b06af",
   "metadata": {},
   "source": [
    "Para que `BeautifulSoup` sea capaz de el código de la web es necesario crear una instancia de la clase `BeautifulSoup`. Dicha instancia debe ser creada con dos argumentos posicionales:\n",
    "\n",
    "1. El primero deber ser el código fuente de la web en string (¡lo tenemos!)\n",
    "2. El segundo ha de ser un string que le diga a `BeautifulSoup` el *parser* (o procesador) a utilizar. La biblioteca puede utilizar [unos cuantos](https://www.crummy.com/software/BeautifulSoup/bs4/doc/#installing-a-parser). Nosotros utilizaremos el `\"html.parser\"`.\n"
   ]
  },
  {
   "cell_type": "code",
   "execution_count": 32,
   "id": "745b2935-bc39-4e46-82f2-b24767acb6e0",
   "metadata": {
    "tags": []
   },
   "outputs": [],
   "source": [
    "yuka_bs = BeautifulSoup(response.text, parser='html.parser')"
   ]
  },
  {
   "cell_type": "code",
   "execution_count": null,
   "id": "de45e9a9-3639-4cfb-8950-b5bf02581fcd",
   "metadata": {
    "tags": []
   },
   "outputs": [],
   "source": [
    "# Utilizar el método prettify() para mostrar el código de forma más estética\n",
    "yuka_bs.prettify()"
   ]
  },
  {
   "cell_type": "markdown",
   "id": "7fd7d294-c8ac-45c8-a1cb-06846bd02790",
   "metadata": {},
   "source": [
    "## Brevísima introducción a HTML"
   ]
  },
  {
   "cell_type": "markdown",
   "id": "397f49b9-99a1-491a-87bd-c175b4d219c1",
   "metadata": {},
   "source": [
    "`yuka_bs` es una instancia de `BeautifulSoup`, lista para \"darnos lo que le pidamos\" de todo el código fuente de la página web.\n",
    "\n",
    "Ahora solo queda decirle qué queremos...\n",
    "\n",
    "Esta parte es más complicada si no sabes HTML.\n",
    "\n",
    "HTML es un lenguaje de marcas. Los elementos que podemos ver en una página web (como son títulos, párrafos, imágenes...) tienen nombres definidos. Por ejemplo:\n",
    "\n",
    "+ Los títulos grandes son `h1`\n",
    "+ Un párrafo es `p`\n",
    "+ Una imagen es `img`\n",
    "+ Una URL es `a`\n",
    "\n",
    "La tónica es casi siempre la misma: en HTML debemos \"meter\" el contenido de un elemento entre *marcas*. Por ejemplo, para hacer un título sería:\n",
    "\n",
    "```html\n",
    "<h1>Esto es un título.</h1>\n",
    "```\n",
    "\n",
    "Los elementos de HTML pueden tener dos cosas llamadas `id` y `class`. Esto permite a los propios desarrolladores poner algo de orden dentro de lo que es el caos de las páginas web modernas. Por ejemplo: una página como la de Google Play utliza cientos de `<span>` y párrafos...\n",
    "\n",
    "Pues bien, cada elemento puede tener un `id` único si queremos que sea diferenciable del resto de elementos del mismo tipo. Gracias a esto, podemos diferenciar (tanto nosotros como los ordenadores):\n",
    "\n",
    "```html\n",
    "<p id=\"comentario_1\">Primer comentario</p>\n",
    "```\n",
    "\n",
    "De:\n",
    "\n",
    "```html\n",
    "<p id=\"comentario_2\">Otro comentario</p>\n",
    "```\n",
    "\n",
    "Asimismo, elementos \"similares\" o del mismo estilo/aspecto suelen tener una misma `class` (no confundir con las clases de Python):\n",
    "\n",
    "```html\n",
    "<h1 class=\"titulo_grande\">Un título</h1>\n",
    "```\n",
    "Y: \n",
    "\n",
    "```html\n",
    "<h1 class=\"titulo_grande\">Otro título</h1>\n",
    "```"
   ]
  },
  {
   "cell_type": "markdown",
   "id": "7800de52-2e08-4b9a-b48d-760a684c94f7",
   "metadata": {},
   "source": [
    "## Extraer los datos que nos interesan"
   ]
  },
  {
   "cell_type": "markdown",
   "id": "41ab9b27-f7ef-4d44-8515-3c585ad21f6e",
   "metadata": {},
   "source": [
    "A modo de ejemplo, vamos a extraer los siguientes datos de interés:\n",
    "\n",
    "- Nombre de la app\n",
    "- Rating\n",
    "- Logo \n",
    "- Apps relacionadas"
   ]
  },
  {
   "cell_type": "markdown",
   "id": "0efacf2c-283c-4105-9c98-5b9255819a07",
   "metadata": {},
   "source": [
    "Cualquier instancia de `BeautifulSoup` tiene el método [`.find()`](https://www.crummy.com/software/BeautifulSoup/bs4/doc/#find) que permite buscar cualquier tipo de elemento HTML, y se queda con la primera ocurrencia. Este método toma como argumentos interesantes:\n",
    "\n",
    "1. Un posicional, que es un string con el nombre del elemento a buscar (como pueden ser `\"h1\"`, `\"p\"` o `\"div\"`).\n",
    "2. Un argumento opcional llamado `id`, que casualmente permite especificar más en la búsqueda; buscando solo elementos con el `id` especificado como string.\n",
    "3. Otro argumento opcional llamado `class_` (así con barra baja para diferenciarlo de la keyword `class` que sirve para definir clases en Python). Al igual que `id`, permite limitar la búsqueda a los elementos del HTML que tengan dicha `class`.\n",
    "\n",
    "Por ejemplo: si queremos buscar el primer elemento `h2` que tenga `id=\"123\"` y `class=\"front-title-spacing\"`, haríamos:\n",
    "\n",
    "```python\n",
    "mi_instancia_de_BeatutifulSoup.find(\"h2\", id=\"123\", class_=\"front-title-spacing\")\n",
    "```"
   ]
  },
  {
   "cell_type": "markdown",
   "id": "ed792027-5798-4483-8622-f77451b96467",
   "metadata": {},
   "source": [
    "### Nombre de app"
   ]
  },
  {
   "cell_type": "code",
   "execution_count": 34,
   "id": "0a2dfe43-2407-48e0-89c3-5ffa33c1f85b",
   "metadata": {
    "tags": []
   },
   "outputs": [],
   "source": [
    "titulo = yuka_bs.find('h1', class_='Fd93Bb F5UCq p5VxAd')"
   ]
  },
  {
   "cell_type": "code",
   "execution_count": 35,
   "id": "3832871c-9b96-4411-8bbb-0c80f88ab0a7",
   "metadata": {
    "tags": []
   },
   "outputs": [
    {
     "data": {
      "text/plain": [
       "<h1 class=\"Fd93Bb F5UCq p5VxAd\" itemprop=\"name\"><span>Yuka - Food &amp; cosmetic scan</span></h1>"
      ]
     },
     "execution_count": 35,
     "metadata": {},
     "output_type": "execute_result"
    }
   ],
   "source": [
    "titulo"
   ]
  },
  {
   "cell_type": "code",
   "execution_count": 36,
   "id": "5d3cd0e4-5fea-4285-8afa-65e617513295",
   "metadata": {
    "tags": []
   },
   "outputs": [
    {
     "data": {
      "text/plain": [
       "'Yuka - Food & cosmetic scan'"
      ]
     },
     "execution_count": 36,
     "metadata": {},
     "output_type": "execute_result"
    }
   ],
   "source": [
    "titulo = titulo.get_text()\n",
    "titulo"
   ]
  },
  {
   "cell_type": "markdown",
   "id": "6dad3823-7ec5-4dd4-a3d1-ec3b228cc154",
   "metadata": {},
   "source": [
    "### Rating"
   ]
  },
  {
   "cell_type": "code",
   "execution_count": 37,
   "id": "7da10c96-f057-43e0-9957-f92e9c2899ec",
   "metadata": {
    "tags": []
   },
   "outputs": [],
   "source": [
    "rating = yuka_bs.find('div', class_='TT9eCd')"
   ]
  },
  {
   "cell_type": "code",
   "execution_count": 38,
   "id": "1c3e247a-1649-4bec-a9b7-193a5b2e63ca",
   "metadata": {
    "tags": []
   },
   "outputs": [
    {
     "data": {
      "text/plain": [
       "'4.7star'"
      ]
     },
     "execution_count": 38,
     "metadata": {},
     "output_type": "execute_result"
    }
   ],
   "source": [
    "rating.get_text()"
   ]
  },
  {
   "cell_type": "code",
   "execution_count": 39,
   "id": "8cae0335-94ae-4640-8434-bc21ac1a7ec7",
   "metadata": {
    "tags": []
   },
   "outputs": [
    {
     "data": {
      "text/plain": [
       "4.7"
      ]
     },
     "execution_count": 39,
     "metadata": {},
     "output_type": "execute_result"
    }
   ],
   "source": [
    "rating = float(rating.get_text().replace('star', ''))\n",
    "rating"
   ]
  },
  {
   "cell_type": "markdown",
   "id": "3d0210df-0569-44ac-a439-61f0f17f6ee3",
   "metadata": {},
   "source": [
    "### Logo"
   ]
  },
  {
   "cell_type": "code",
   "execution_count": 40,
   "id": "4bddfe0a-07a4-47b3-91a2-0bd9511e729a",
   "metadata": {
    "tags": []
   },
   "outputs": [],
   "source": [
    "logo = yuka_bs.find('div', class_='Il7kR')"
   ]
  },
  {
   "cell_type": "code",
   "execution_count": 42,
   "id": "11013a7c-8cbf-45e1-8962-9b906cf08238",
   "metadata": {
    "tags": []
   },
   "outputs": [
    {
     "data": {
      "text/plain": [
       "<img alt=\"Icon image\" aria-hidden=\"true\" class=\"T75of cN0oRe fFmL2e\" itemprop=\"image\" src=\"https://play-lh.googleusercontent.com/fmGc9NGmf0ZTV2PQIhZ7lprvqNaUOaZEFXZg6MIG5fDaUiTua4Y2D7IxA3jaHDj2xQ=w240-h480\" srcset=\"https://play-lh.googleusercontent.com/fmGc9NGmf0ZTV2PQIhZ7lprvqNaUOaZEFXZg6MIG5fDaUiTua4Y2D7IxA3jaHDj2xQ=w480-h960 2x\"/>"
      ]
     },
     "execution_count": 42,
     "metadata": {},
     "output_type": "execute_result"
    }
   ],
   "source": [
    "logo.find('img')\n"
   ]
  },
  {
   "cell_type": "code",
   "execution_count": 43,
   "id": "db1c529d-8601-426c-aa56-e6c1a1d7c7ce",
   "metadata": {
    "tags": []
   },
   "outputs": [
    {
     "data": {
      "text/plain": [
       "'https://play-lh.googleusercontent.com/fmGc9NGmf0ZTV2PQIhZ7lprvqNaUOaZEFXZg6MIG5fDaUiTua4Y2D7IxA3jaHDj2xQ=w240-h480'"
      ]
     },
     "execution_count": 43,
     "metadata": {},
     "output_type": "execute_result"
    }
   ],
   "source": [
    "logo = logo.find('img')['src']\n",
    "logo"
   ]
  },
  {
   "cell_type": "markdown",
   "id": "39c16f01-3adb-436a-82cf-563dade3b9b2",
   "metadata": {},
   "source": [
    "### Otras apps"
   ]
  },
  {
   "cell_type": "code",
   "execution_count": 44,
   "id": "207aa189-c999-4c3b-99b4-b091a4d7e3d7",
   "metadata": {
    "tags": []
   },
   "outputs": [],
   "source": [
    "apps = yuka_bs.find_all('a', class_='Si6A0c nT2RTe')"
   ]
  },
  {
   "cell_type": "code",
   "execution_count": 46,
   "id": "251a8fed-5c91-42a3-b2e2-690eb3a8ca53",
   "metadata": {
    "tags": []
   },
   "outputs": [
    {
     "data": {
      "text/plain": [
       "[<a class=\"Si6A0c nT2RTe\" href=\"/store/apps/details?id=com.app.tgtg\" jslog=\"38003; 1:500|CAIaUgoUEhIKDGNvbS5hcHAudGd0ZxABGAMQADITCMyXsIzAyoEDFYGWCgkdI/AJ9XITCI+A8vekyoEDFciVCgkdBlYLrooBDQgAEgkKBWVuLVVTEACqAlcaVQgAEhQKEgoMY29tLmFwcC50Z3RnEAEYA0oTCMyXsIzAyoEDFYGWCgkdI/AJ9ZoBEwiPgPL3pMqBAxXIlQoJHQZWC676AQ8KDQgAEgkKBWVuLVVTEAA=; track:click,impression\"><div class=\"j2FCNc cQv9D\"><img alt=\"Thumbnail image\" aria-hidden=\"true\" class=\"T75of stzEZd\" loading=\"lazy\" src=\"https://play-lh.googleusercontent.com/Ht7OXfuYPvtSdFl7PnuX6KisTLgSceF9krOmxof7klTgqNR7UBVc53z63Vm3NuOQ0eo=s64\" srcset=\"https://play-lh.googleusercontent.com/Ht7OXfuYPvtSdFl7PnuX6KisTLgSceF9krOmxof7klTgqNR7UBVc53z63Vm3NuOQ0eo=s128 2x\"/><div class=\"cXFu1\"><div class=\"ubGTjb\"><span class=\"DdYX5\">Too Good To Go: End Food Waste</span></div><div class=\"ubGTjb\"><span class=\"wMUdtb\">Too Good To Go Aps</span></div><div class=\"ubGTjb\"><div aria-label=\"Rated 4.8 stars out of five stars\" style=\"display: inline-flex; align-items: center;\"><span class=\"w2kbF\">4.8</span><span class=\"Q4fJQd\"><i aria-hidden=\"true\" class=\"google-material-icons Yvy3Fd\">star</i></span></div></div></div></div></a>,\n",
       " <a class=\"Si6A0c nT2RTe\" href=\"/store/apps/details?id=com.lafourchette.lafourchette\" jslog=\"38003; 1:500|CAIaYwolEiMKHWNvbS5sYWZvdXJjaGV0dGUubGFmb3VyY2hldHRlEAEYAxABMhMIzJewjMDKgQMVgZYKCR0j8An1chMIj4Dy96TKgQMVyJUKCR0GVguuigENCAASCQoFZW4tVVMQAKoCaBpmCAESJQojCh1jb20ubGFmb3VyY2hldHRlLmxhZm91cmNoZXR0ZRABGANKEwjMl7CMwMqBAxWBlgoJHSPwCfWaARMIj4Dy96TKgQMVyJUKCR0GVguu+gEPCg0IABIJCgVlbi1VUxAA; track:click,impression\"><div class=\"j2FCNc cQv9D\"><img alt=\"Thumbnail image\" aria-hidden=\"true\" class=\"T75of stzEZd\" loading=\"lazy\" src=\"https://play-lh.googleusercontent.com/GjJp9pPZuXJQ0XjU3rUUgPPEPDUwN7eiueOxXhauVB68YOZ1WBE1CmjoJ7-1_-cM07t-=s64\" srcset=\"https://play-lh.googleusercontent.com/GjJp9pPZuXJQ0XjU3rUUgPPEPDUwN7eiueOxXhauVB68YOZ1WBE1CmjoJ7-1_-cM07t-=s128 2x\"/><div class=\"cXFu1\"><div class=\"ubGTjb\"><span class=\"DdYX5\">TheFork - Restaurant bookings</span></div><div class=\"ubGTjb\"><span class=\"wMUdtb\">LaFourchette SAS</span></div><div class=\"ubGTjb\"><div aria-label=\"Rated 4.9 stars out of five stars\" style=\"display: inline-flex; align-items: center;\"><span class=\"w2kbF\">4.9</span><span class=\"Q4fJQd\"><i aria-hidden=\"true\" class=\"google-material-icons Yvy3Fd\">star</i></span></div></div></div></div></a>,\n",
       " <a class=\"Si6A0c nT2RTe\" href=\"/store/apps/details?id=com.hellofresh.androidapp\" jslog=\"38003; 1:500|CAIaXwohEh8KGWNvbS5oZWxsb2ZyZXNoLmFuZHJvaWRhcHAQARgDEAIyEwjMl7CMwMqBAxWBlgoJHSPwCfVyEwiPgPL3pMqBAxXIlQoJHQZWC66KAQ0IABIJCgVlbi1VUxAAqgJkGmIIAhIhCh8KGWNvbS5oZWxsb2ZyZXNoLmFuZHJvaWRhcHAQARgDShMIzJewjMDKgQMVgZYKCR0j8An1mgETCI+A8vekyoEDFciVCgkdBlYLrvoBDwoNCAASCQoFZW4tVVMQAA==; track:click,impression\"><div class=\"j2FCNc cQv9D\"><img alt=\"Thumbnail image\" aria-hidden=\"true\" class=\"T75of stzEZd\" loading=\"lazy\" src=\"https://play-lh.googleusercontent.com/FCm6Y99r1v7NePwvj0Yu8qzPkXysU4j_BnPc4fpWsdOkQ21HyF33GiZEOHVm80EfzkU=s64\" srcset=\"https://play-lh.googleusercontent.com/FCm6Y99r1v7NePwvj0Yu8qzPkXysU4j_BnPc4fpWsdOkQ21HyF33GiZEOHVm80EfzkU=s128 2x\"/><div class=\"cXFu1\"><div class=\"ubGTjb\"><span class=\"DdYX5\">HelloFresh: Meal Kit Delivery</span></div><div class=\"ubGTjb\"><span class=\"wMUdtb\">HelloFresh SE</span></div><div class=\"ubGTjb\"><div aria-label=\"Rated 4.6 stars out of five stars\" style=\"display: inline-flex; align-items: center;\"><span class=\"w2kbF\">4.6</span><span class=\"Q4fJQd\"><i aria-hidden=\"true\" class=\"google-material-icons Yvy3Fd\">star</i></span></div></div></div></div></a>,\n",
       " <a class=\"Si6A0c nT2RTe\" href=\"/store/apps/details?id=com.wishop.dev.jow\" jslog=\"38003; 1:500|CAIaYAoaEhgKEmNvbS53aXNob3AuZGV2LmpvdxABGAMQAzITCMyXsIzAyoEDFYGWCgkdI/AJ9XITCI+A8vekyoEDFciVCgkdBlYLrooBFQiKkobr8pa3ikMSCQoFZnItRlIQAKoCZRpjCAMSGgoYChJjb20ud2lzaG9wLmRldi5qb3cQARgDShMIzJewjMDKgQMVgZYKCR0j8An1mgETCI+A8vekyoEDFciVCgkdBlYLrvoBFwoVCIqShuvylreKQxIJCgVmci1GUhAA; track:click,impression\"><div class=\"j2FCNc cQv9D\"><img alt=\"Thumbnail image\" aria-hidden=\"true\" class=\"T75of stzEZd\" loading=\"lazy\" src=\"https://play-lh.googleusercontent.com/kyDm3LnpVWndExttplTaqyTrphXcHj1nDYhbzSOhhQ8GDAfQ6Sdjb-roh4DvW3aKLg=s64\" srcset=\"https://play-lh.googleusercontent.com/kyDm3LnpVWndExttplTaqyTrphXcHj1nDYhbzSOhhQ8GDAfQ6Sdjb-roh4DvW3aKLg=s128 2x\"/><div class=\"cXFu1\"><div class=\"ubGTjb\"><span class=\"DdYX5\">Jow - easy recipes &amp; groceries</span></div><div class=\"ubGTjb\"><span class=\"wMUdtb\">Jow</span></div><div class=\"ubGTjb\"><div aria-label=\"Rated 3.9 stars out of five stars\" style=\"display: inline-flex; align-items: center;\"><span class=\"w2kbF\">3.9</span><span class=\"Q4fJQd\"><i aria-hidden=\"true\" class=\"google-material-icons Yvy3Fd\">star</i></span></div></div></div></div></a>,\n",
       " <a class=\"Si6A0c nT2RTe\" href=\"/store/apps/details?id=com.sillens.shapeupclub\" jslog=\"38003; 1:500|CAIaXQofEh0KF2NvbS5zaWxsZW5zLnNoYXBldXBjbHViEAEYAxAEMhMIzJewjMDKgQMVgZYKCR0j8An1chMIj4Dy96TKgQMVyJUKCR0GVguuigENCAASCQoFZW4tVVMQAKoCYhpgCAQSHwodChdjb20uc2lsbGVucy5zaGFwZXVwY2x1YhABGANKEwjMl7CMwMqBAxWBlgoJHSPwCfWaARMIj4Dy96TKgQMVyJUKCR0GVguu+gEPCg0IABIJCgVlbi1VUxAA; track:click,impression\"><div class=\"j2FCNc cQv9D\"><img alt=\"Thumbnail image\" aria-hidden=\"true\" class=\"T75of stzEZd\" loading=\"lazy\" src=\"https://play-lh.googleusercontent.com/EksxpCD83ryNH0jAur3xxfseKV2cCU3hClEkdem0gG7IEOcET-nUNreoz2XsKfnX1cw=s64\" srcset=\"https://play-lh.googleusercontent.com/EksxpCD83ryNH0jAur3xxfseKV2cCU3hClEkdem0gG7IEOcET-nUNreoz2XsKfnX1cw=s128 2x\"/><div class=\"cXFu1\"><div class=\"ubGTjb\"><span class=\"DdYX5\">Lifesum: Healthy Eating &amp; Diet</span></div><div class=\"ubGTjb\"><span class=\"wMUdtb\">Lifesum</span></div><div class=\"ubGTjb\"><div aria-label=\"Rated 4.3 stars out of five stars\" style=\"display: inline-flex; align-items: center;\"><span class=\"w2kbF\">4.3</span><span class=\"Q4fJQd\"><i aria-hidden=\"true\" class=\"google-material-icons Yvy3Fd\">star</i></span></div></div></div></div></a>,\n",
       " <a class=\"Si6A0c nT2RTe\" href=\"/store/apps/details?id=com.myfitnesspal.android\" jslog=\"38003; 1:500|CAIaXgogEh4KGGNvbS5teWZpdG5lc3NwYWwuYW5kcm9pZBABGAMQBTITCMyXsIzAyoEDFYGWCgkdI/AJ9XITCI+A8vekyoEDFciVCgkdBlYLrooBDQgAEgkKBWVuLVVTEACqAmMaYQgFEiAKHgoYY29tLm15Zml0bmVzc3BhbC5hbmRyb2lkEAEYA0oTCMyXsIzAyoEDFYGWCgkdI/AJ9ZoBEwiPgPL3pMqBAxXIlQoJHQZWC676AQ8KDQgAEgkKBWVuLVVTEAA=; track:click,impression\"><div class=\"j2FCNc cQv9D\"><img alt=\"Thumbnail image\" aria-hidden=\"true\" class=\"T75of stzEZd\" loading=\"lazy\" src=\"https://play-lh.googleusercontent.com/RSu_Yble-5MgqnXbuqaYdj9r97Wv3yE0ICX2vDGAw2QCZPF4wZLA71Q1cEndjR1WpDM=s64\" srcset=\"https://play-lh.googleusercontent.com/RSu_Yble-5MgqnXbuqaYdj9r97Wv3yE0ICX2vDGAw2QCZPF4wZLA71Q1cEndjR1WpDM=s128 2x\"/><div class=\"cXFu1\"><div class=\"ubGTjb\"><span class=\"DdYX5\">MyFitnessPal: Calorie Counter</span></div><div class=\"ubGTjb\"><span class=\"wMUdtb\">MyFitnessPal, Inc.</span></div><div class=\"ubGTjb\"><div aria-label=\"Rated 4.1 stars out of five stars\" style=\"display: inline-flex; align-items: center;\"><span class=\"w2kbF\">4.1</span><span class=\"Q4fJQd\"><i aria-hidden=\"true\" class=\"google-material-icons Yvy3Fd\">star</i></span></div></div></div></div></a>]"
      ]
     },
     "execution_count": 46,
     "metadata": {},
     "output_type": "execute_result"
    }
   ],
   "source": [
    "apps"
   ]
  },
  {
   "cell_type": "code",
   "execution_count": 45,
   "id": "7f4b7a71-0f51-4cca-a96e-a5a90354fa45",
   "metadata": {
    "tags": []
   },
   "outputs": [
    {
     "data": {
      "text/plain": [
       "6"
      ]
     },
     "execution_count": 45,
     "metadata": {},
     "output_type": "execute_result"
    }
   ],
   "source": [
    "len(apps)"
   ]
  },
  {
   "cell_type": "code",
   "execution_count": 47,
   "id": "2a9b003e-0495-4cc3-aaf8-01c91bce96d5",
   "metadata": {
    "tags": []
   },
   "outputs": [
    {
     "data": {
      "text/plain": [
       "'/store/apps/details?id=com.app.tgtg'"
      ]
     },
     "execution_count": 47,
     "metadata": {},
     "output_type": "execute_result"
    }
   ],
   "source": [
    "# Para acceder a la url, busco el elemento 'href'\n",
    "apps[0]['href']"
   ]
  },
  {
   "cell_type": "code",
   "execution_count": null,
   "id": "edae25dc-c9cf-4efc-92f6-0140e72fa908",
   "metadata": {
    "tags": []
   },
   "outputs": [],
   "source": [
    "# Tenemos que añadirle el inicio de la url\n",
    "cons= 'https://play.google.com'"
   ]
  },
  {
   "cell_type": "code",
   "execution_count": 48,
   "id": "eec04e3d-7c64-414d-94cd-6d1ecb1c3dad",
   "metadata": {
    "tags": []
   },
   "outputs": [],
   "source": [
    "app_list = []\n",
    "for app in apps:\n",
    "    url = cons + app['href']\n",
    "    app_list.append(url)"
   ]
  },
  {
   "cell_type": "code",
   "execution_count": 49,
   "id": "ee40c0da-e168-42b3-94c7-279495e2be79",
   "metadata": {
    "tags": []
   },
   "outputs": [
    {
     "data": {
      "text/plain": [
       "['https://play.google.com/store/apps/details?id=com.app.tgtg',\n",
       " 'https://play.google.com/store/apps/details?id=com.lafourchette.lafourchette',\n",
       " 'https://play.google.com/store/apps/details?id=com.hellofresh.androidapp',\n",
       " 'https://play.google.com/store/apps/details?id=com.wishop.dev.jow',\n",
       " 'https://play.google.com/store/apps/details?id=com.sillens.shapeupclub',\n",
       " 'https://play.google.com/store/apps/details?id=com.myfitnesspal.android']"
      ]
     },
     "execution_count": 49,
     "metadata": {},
     "output_type": "execute_result"
    }
   ],
   "source": [
    "app_list"
   ]
  },
  {
   "cell_type": "markdown",
   "id": "82a3025f-c8dc-48b3-9521-83ab86fd4e88",
   "metadata": {},
   "source": [
    "## Unir todo en un dataframe"
   ]
  },
  {
   "cell_type": "code",
   "execution_count": 50,
   "id": "a05f93f8-4b82-4d2d-8c3f-95fc204cd2e1",
   "metadata": {
    "tags": []
   },
   "outputs": [],
   "source": [
    "import pandas as pd\n",
    "row = [titulo, rating, logo, app_list]\n",
    "app_df = pd.DataFrame([row], columns = ['name','rating','logo','related_apps'])"
   ]
  },
  {
   "cell_type": "code",
   "execution_count": 51,
   "id": "a2964b50-d128-49a0-bafd-45d01a90f342",
   "metadata": {
    "tags": []
   },
   "outputs": [
    {
     "data": {
      "text/html": [
       "<div>\n",
       "<style scoped>\n",
       "    .dataframe tbody tr th:only-of-type {\n",
       "        vertical-align: middle;\n",
       "    }\n",
       "\n",
       "    .dataframe tbody tr th {\n",
       "        vertical-align: top;\n",
       "    }\n",
       "\n",
       "    .dataframe thead th {\n",
       "        text-align: right;\n",
       "    }\n",
       "</style>\n",
       "<table border=\"1\" class=\"dataframe\">\n",
       "  <thead>\n",
       "    <tr style=\"text-align: right;\">\n",
       "      <th></th>\n",
       "      <th>name</th>\n",
       "      <th>rating</th>\n",
       "      <th>logo</th>\n",
       "      <th>related_apps</th>\n",
       "    </tr>\n",
       "  </thead>\n",
       "  <tbody>\n",
       "    <tr>\n",
       "      <th>0</th>\n",
       "      <td>Yuka - Food &amp; cosmetic scan</td>\n",
       "      <td>4.7</td>\n",
       "      <td>https://play-lh.googleusercontent.com/fmGc9NGm...</td>\n",
       "      <td>[https://play.google.com/store/apps/details?id...</td>\n",
       "    </tr>\n",
       "  </tbody>\n",
       "</table>\n",
       "</div>"
      ],
      "text/plain": [
       "                          name  rating  \\\n",
       "0  Yuka - Food & cosmetic scan     4.7   \n",
       "\n",
       "                                                logo  \\\n",
       "0  https://play-lh.googleusercontent.com/fmGc9NGm...   \n",
       "\n",
       "                                        related_apps  \n",
       "0  [https://play.google.com/store/apps/details?id...  "
      ]
     },
     "execution_count": 51,
     "metadata": {},
     "output_type": "execute_result"
    }
   ],
   "source": [
    "app_df"
   ]
  },
  {
   "cell_type": "code",
   "execution_count": null,
   "id": "964c2da2-19de-456c-a294-72404029b3da",
   "metadata": {},
   "outputs": [],
   "source": []
  }
 ],
 "metadata": {
  "kernelspec": {
   "display_name": "Python 3 (ipykernel)",
   "language": "python",
   "name": "python3"
  },
  "language_info": {
   "codemirror_mode": {
    "name": "ipython",
    "version": 3
   },
   "file_extension": ".py",
   "mimetype": "text/x-python",
   "name": "python",
   "nbconvert_exporter": "python",
   "pygments_lexer": "ipython3",
   "version": "3.10.11"
  }
 },
 "nbformat": 4,
 "nbformat_minor": 5
}
